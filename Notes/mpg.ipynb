{
 "cells": [
  {
   "metadata": {},
   "cell_type": "markdown",
   "source": "### MPG",
   "id": "a84c2ad716a1cbc1"
  },
  {
   "cell_type": "code",
   "id": "initial_id",
   "metadata": {
    "collapsed": true,
    "ExecuteTime": {
     "end_time": "2024-06-10T13:57:37.882322Z",
     "start_time": "2024-06-10T13:57:36.442746Z"
    }
   },
   "source": [
    "import numpy as np\n",
    "import pandas as pd\n",
    "import matplotlib.pyplot as plt\n",
    "import seaborn as sns\n",
    "\n",
    "data = sns.load_dataset('mpg')"
   ],
   "outputs": [],
   "execution_count": 1
  },
  {
   "metadata": {
    "ExecuteTime": {
     "end_time": "2024-06-10T13:58:22.279535Z",
     "start_time": "2024-06-10T13:58:22.226306Z"
    }
   },
   "cell_type": "code",
   "source": "data",
   "id": "1f63ae6ee84507",
   "outputs": [
    {
     "data": {
      "text/plain": [
       "      mpg  cylinders  displacement  horsepower  weight  acceleration  \\\n",
       "0    18.0          8         307.0       130.0    3504          12.0   \n",
       "1    15.0          8         350.0       165.0    3693          11.5   \n",
       "2    18.0          8         318.0       150.0    3436          11.0   \n",
       "3    16.0          8         304.0       150.0    3433          12.0   \n",
       "4    17.0          8         302.0       140.0    3449          10.5   \n",
       "..    ...        ...           ...         ...     ...           ...   \n",
       "393  27.0          4         140.0        86.0    2790          15.6   \n",
       "394  44.0          4          97.0        52.0    2130          24.6   \n",
       "395  32.0          4         135.0        84.0    2295          11.6   \n",
       "396  28.0          4         120.0        79.0    2625          18.6   \n",
       "397  31.0          4         119.0        82.0    2720          19.4   \n",
       "\n",
       "     model_year  origin                       name  \n",
       "0            70     usa  chevrolet chevelle malibu  \n",
       "1            70     usa          buick skylark 320  \n",
       "2            70     usa         plymouth satellite  \n",
       "3            70     usa              amc rebel sst  \n",
       "4            70     usa                ford torino  \n",
       "..          ...     ...                        ...  \n",
       "393          82     usa            ford mustang gl  \n",
       "394          82  europe                  vw pickup  \n",
       "395          82     usa              dodge rampage  \n",
       "396          82     usa                ford ranger  \n",
       "397          82     usa                 chevy s-10  \n",
       "\n",
       "[398 rows x 9 columns]"
      ],
      "text/html": [
       "<div>\n",
       "<style scoped>\n",
       "    .dataframe tbody tr th:only-of-type {\n",
       "        vertical-align: middle;\n",
       "    }\n",
       "\n",
       "    .dataframe tbody tr th {\n",
       "        vertical-align: top;\n",
       "    }\n",
       "\n",
       "    .dataframe thead th {\n",
       "        text-align: right;\n",
       "    }\n",
       "</style>\n",
       "<table border=\"1\" class=\"dataframe\">\n",
       "  <thead>\n",
       "    <tr style=\"text-align: right;\">\n",
       "      <th></th>\n",
       "      <th>mpg</th>\n",
       "      <th>cylinders</th>\n",
       "      <th>displacement</th>\n",
       "      <th>horsepower</th>\n",
       "      <th>weight</th>\n",
       "      <th>acceleration</th>\n",
       "      <th>model_year</th>\n",
       "      <th>origin</th>\n",
       "      <th>name</th>\n",
       "    </tr>\n",
       "  </thead>\n",
       "  <tbody>\n",
       "    <tr>\n",
       "      <th>0</th>\n",
       "      <td>18.0</td>\n",
       "      <td>8</td>\n",
       "      <td>307.0</td>\n",
       "      <td>130.0</td>\n",
       "      <td>3504</td>\n",
       "      <td>12.0</td>\n",
       "      <td>70</td>\n",
       "      <td>usa</td>\n",
       "      <td>chevrolet chevelle malibu</td>\n",
       "    </tr>\n",
       "    <tr>\n",
       "      <th>1</th>\n",
       "      <td>15.0</td>\n",
       "      <td>8</td>\n",
       "      <td>350.0</td>\n",
       "      <td>165.0</td>\n",
       "      <td>3693</td>\n",
       "      <td>11.5</td>\n",
       "      <td>70</td>\n",
       "      <td>usa</td>\n",
       "      <td>buick skylark 320</td>\n",
       "    </tr>\n",
       "    <tr>\n",
       "      <th>2</th>\n",
       "      <td>18.0</td>\n",
       "      <td>8</td>\n",
       "      <td>318.0</td>\n",
       "      <td>150.0</td>\n",
       "      <td>3436</td>\n",
       "      <td>11.0</td>\n",
       "      <td>70</td>\n",
       "      <td>usa</td>\n",
       "      <td>plymouth satellite</td>\n",
       "    </tr>\n",
       "    <tr>\n",
       "      <th>3</th>\n",
       "      <td>16.0</td>\n",
       "      <td>8</td>\n",
       "      <td>304.0</td>\n",
       "      <td>150.0</td>\n",
       "      <td>3433</td>\n",
       "      <td>12.0</td>\n",
       "      <td>70</td>\n",
       "      <td>usa</td>\n",
       "      <td>amc rebel sst</td>\n",
       "    </tr>\n",
       "    <tr>\n",
       "      <th>4</th>\n",
       "      <td>17.0</td>\n",
       "      <td>8</td>\n",
       "      <td>302.0</td>\n",
       "      <td>140.0</td>\n",
       "      <td>3449</td>\n",
       "      <td>10.5</td>\n",
       "      <td>70</td>\n",
       "      <td>usa</td>\n",
       "      <td>ford torino</td>\n",
       "    </tr>\n",
       "    <tr>\n",
       "      <th>...</th>\n",
       "      <td>...</td>\n",
       "      <td>...</td>\n",
       "      <td>...</td>\n",
       "      <td>...</td>\n",
       "      <td>...</td>\n",
       "      <td>...</td>\n",
       "      <td>...</td>\n",
       "      <td>...</td>\n",
       "      <td>...</td>\n",
       "    </tr>\n",
       "    <tr>\n",
       "      <th>393</th>\n",
       "      <td>27.0</td>\n",
       "      <td>4</td>\n",
       "      <td>140.0</td>\n",
       "      <td>86.0</td>\n",
       "      <td>2790</td>\n",
       "      <td>15.6</td>\n",
       "      <td>82</td>\n",
       "      <td>usa</td>\n",
       "      <td>ford mustang gl</td>\n",
       "    </tr>\n",
       "    <tr>\n",
       "      <th>394</th>\n",
       "      <td>44.0</td>\n",
       "      <td>4</td>\n",
       "      <td>97.0</td>\n",
       "      <td>52.0</td>\n",
       "      <td>2130</td>\n",
       "      <td>24.6</td>\n",
       "      <td>82</td>\n",
       "      <td>europe</td>\n",
       "      <td>vw pickup</td>\n",
       "    </tr>\n",
       "    <tr>\n",
       "      <th>395</th>\n",
       "      <td>32.0</td>\n",
       "      <td>4</td>\n",
       "      <td>135.0</td>\n",
       "      <td>84.0</td>\n",
       "      <td>2295</td>\n",
       "      <td>11.6</td>\n",
       "      <td>82</td>\n",
       "      <td>usa</td>\n",
       "      <td>dodge rampage</td>\n",
       "    </tr>\n",
       "    <tr>\n",
       "      <th>396</th>\n",
       "      <td>28.0</td>\n",
       "      <td>4</td>\n",
       "      <td>120.0</td>\n",
       "      <td>79.0</td>\n",
       "      <td>2625</td>\n",
       "      <td>18.6</td>\n",
       "      <td>82</td>\n",
       "      <td>usa</td>\n",
       "      <td>ford ranger</td>\n",
       "    </tr>\n",
       "    <tr>\n",
       "      <th>397</th>\n",
       "      <td>31.0</td>\n",
       "      <td>4</td>\n",
       "      <td>119.0</td>\n",
       "      <td>82.0</td>\n",
       "      <td>2720</td>\n",
       "      <td>19.4</td>\n",
       "      <td>82</td>\n",
       "      <td>usa</td>\n",
       "      <td>chevy s-10</td>\n",
       "    </tr>\n",
       "  </tbody>\n",
       "</table>\n",
       "<p>398 rows × 9 columns</p>\n",
       "</div>"
      ]
     },
     "execution_count": 2,
     "metadata": {},
     "output_type": "execute_result"
    }
   ],
   "execution_count": 2
  },
  {
   "metadata": {
    "ExecuteTime": {
     "end_time": "2024-06-11T12:53:39.733739Z",
     "start_time": "2024-06-11T12:53:39.568967Z"
    }
   },
   "cell_type": "code",
   "source": "data.info()",
   "id": "c8537aa5d8966dcd",
   "outputs": [
    {
     "name": "stdout",
     "output_type": "stream",
     "text": [
      "<class 'pandas.core.frame.DataFrame'>\n",
      "RangeIndex: 398 entries, 0 to 397\n",
      "Data columns (total 9 columns):\n",
      " #   Column        Non-Null Count  Dtype  \n",
      "---  ------        --------------  -----  \n",
      " 0   mpg           398 non-null    float64\n",
      " 1   cylinders     398 non-null    int64  \n",
      " 2   displacement  398 non-null    float64\n",
      " 3   horsepower    392 non-null    float64\n",
      " 4   weight        398 non-null    int64  \n",
      " 5   acceleration  398 non-null    float64\n",
      " 6   model_year    398 non-null    int64  \n",
      " 7   origin        398 non-null    object \n",
      " 8   name          398 non-null    object \n",
      "dtypes: float64(4), int64(3), object(2)\n",
      "memory usage: 28.1+ KB\n"
     ]
    }
   ],
   "execution_count": 3
  },
  {
   "metadata": {},
   "cell_type": "markdown",
   "source": "결측치가 있는 행 처리",
   "id": "3b085bc6f3b3ff8d"
  },
  {
   "metadata": {
    "ExecuteTime": {
     "end_time": "2024-06-11T12:56:57.756068Z",
     "start_time": "2024-06-11T12:56:57.728654Z"
    }
   },
   "cell_type": "code",
   "source": "data.dropna(inplace = True)",
   "id": "9919d667e6489464",
   "outputs": [],
   "execution_count": 5
  },
  {
   "metadata": {
    "ExecuteTime": {
     "end_time": "2024-06-11T12:57:13.519983Z",
     "start_time": "2024-06-11T12:57:13.473984Z"
    }
   },
   "cell_type": "code",
   "source": "data.info()",
   "id": "e4e697d135f90db3",
   "outputs": [
    {
     "name": "stdout",
     "output_type": "stream",
     "text": [
      "<class 'pandas.core.frame.DataFrame'>\n",
      "Int64Index: 392 entries, 0 to 397\n",
      "Data columns (total 9 columns):\n",
      " #   Column        Non-Null Count  Dtype  \n",
      "---  ------        --------------  -----  \n",
      " 0   mpg           392 non-null    float64\n",
      " 1   cylinders     392 non-null    int64  \n",
      " 2   displacement  392 non-null    float64\n",
      " 3   horsepower    392 non-null    float64\n",
      " 4   weight        392 non-null    int64  \n",
      " 5   acceleration  392 non-null    float64\n",
      " 6   model_year    392 non-null    int64  \n",
      " 7   origin        392 non-null    object \n",
      " 8   name          392 non-null    object \n",
      "dtypes: float64(4), int64(3), object(2)\n",
      "memory usage: 30.6+ KB\n"
     ]
    }
   ],
   "execution_count": 7
  },
  {
   "metadata": {},
   "cell_type": "markdown",
   "source": "#### Data Split",
   "id": "a8913f5d2f650f30"
  },
  {
   "metadata": {
    "ExecuteTime": {
     "end_time": "2024-06-11T14:33:56.103704Z",
     "start_time": "2024-06-11T14:33:56.079609Z"
    }
   },
   "cell_type": "code",
   "source": [
    "X = data.drop(['mpg', 'origin', 'name'], axis = 1)\n",
    "y = data['mpg']"
   ],
   "id": "ba003ebe7d1c3051",
   "outputs": [],
   "execution_count": 69
  },
  {
   "metadata": {
    "ExecuteTime": {
     "end_time": "2024-06-11T14:33:56.365550Z",
     "start_time": "2024-06-11T14:33:56.349677Z"
    }
   },
   "cell_type": "code",
   "source": [
    "from sklearn.model_selection import train_test_split\n",
    "\n",
    "X_train, X_test, y_train, y_test = train_test_split(\n",
    "    X, y, test_size = 0.2, random_state = 42, shuffle = True\n",
    ")"
   ],
   "id": "5de57c5112169aaf",
   "outputs": [],
   "execution_count": 70
  },
  {
   "metadata": {
    "ExecuteTime": {
     "end_time": "2024-06-11T14:33:56.740227Z",
     "start_time": "2024-06-11T14:33:56.727573Z"
    }
   },
   "cell_type": "code",
   "source": "X_train.head()",
   "id": "75e5b6748f71e619",
   "outputs": [
    {
     "data": {
      "text/plain": [
       "     cylinders  displacement  horsepower  weight  acceleration  model_year\n",
       "260          6         225.0       110.0    3620          18.7          78\n",
       "184          4         140.0        92.0    2572          14.9          76\n",
       "174          6         171.0        97.0    2984          14.5          75\n",
       "64           8         318.0       150.0    4135          13.5          72\n",
       "344          4          86.0        64.0    1875          16.4          81"
      ],
      "text/html": [
       "<div>\n",
       "<style scoped>\n",
       "    .dataframe tbody tr th:only-of-type {\n",
       "        vertical-align: middle;\n",
       "    }\n",
       "\n",
       "    .dataframe tbody tr th {\n",
       "        vertical-align: top;\n",
       "    }\n",
       "\n",
       "    .dataframe thead th {\n",
       "        text-align: right;\n",
       "    }\n",
       "</style>\n",
       "<table border=\"1\" class=\"dataframe\">\n",
       "  <thead>\n",
       "    <tr style=\"text-align: right;\">\n",
       "      <th></th>\n",
       "      <th>cylinders</th>\n",
       "      <th>displacement</th>\n",
       "      <th>horsepower</th>\n",
       "      <th>weight</th>\n",
       "      <th>acceleration</th>\n",
       "      <th>model_year</th>\n",
       "    </tr>\n",
       "  </thead>\n",
       "  <tbody>\n",
       "    <tr>\n",
       "      <th>260</th>\n",
       "      <td>6</td>\n",
       "      <td>225.0</td>\n",
       "      <td>110.0</td>\n",
       "      <td>3620</td>\n",
       "      <td>18.7</td>\n",
       "      <td>78</td>\n",
       "    </tr>\n",
       "    <tr>\n",
       "      <th>184</th>\n",
       "      <td>4</td>\n",
       "      <td>140.0</td>\n",
       "      <td>92.0</td>\n",
       "      <td>2572</td>\n",
       "      <td>14.9</td>\n",
       "      <td>76</td>\n",
       "    </tr>\n",
       "    <tr>\n",
       "      <th>174</th>\n",
       "      <td>6</td>\n",
       "      <td>171.0</td>\n",
       "      <td>97.0</td>\n",
       "      <td>2984</td>\n",
       "      <td>14.5</td>\n",
       "      <td>75</td>\n",
       "    </tr>\n",
       "    <tr>\n",
       "      <th>64</th>\n",
       "      <td>8</td>\n",
       "      <td>318.0</td>\n",
       "      <td>150.0</td>\n",
       "      <td>4135</td>\n",
       "      <td>13.5</td>\n",
       "      <td>72</td>\n",
       "    </tr>\n",
       "    <tr>\n",
       "      <th>344</th>\n",
       "      <td>4</td>\n",
       "      <td>86.0</td>\n",
       "      <td>64.0</td>\n",
       "      <td>1875</td>\n",
       "      <td>16.4</td>\n",
       "      <td>81</td>\n",
       "    </tr>\n",
       "  </tbody>\n",
       "</table>\n",
       "</div>"
      ]
     },
     "execution_count": 71,
     "metadata": {},
     "output_type": "execute_result"
    }
   ],
   "execution_count": 71
  },
  {
   "metadata": {
    "ExecuteTime": {
     "end_time": "2024-06-11T14:33:57.414502Z",
     "start_time": "2024-06-11T14:33:57.408059Z"
    }
   },
   "cell_type": "code",
   "source": "y_train.head()",
   "id": "d608669f023a6e3f",
   "outputs": [
    {
     "data": {
      "text/plain": [
       "260    18.6\n",
       "184    25.0\n",
       "174    18.0\n",
       "64     15.0\n",
       "344    39.0\n",
       "Name: mpg, dtype: float64"
      ]
     },
     "execution_count": 72,
     "metadata": {},
     "output_type": "execute_result"
    }
   ],
   "execution_count": 72
  },
  {
   "metadata": {},
   "cell_type": "markdown",
   "source": "#### Ordinary Least Sqaures",
   "id": "52e30c5ba10f47"
  },
  {
   "metadata": {
    "ExecuteTime": {
     "end_time": "2024-06-11T14:33:58.324453Z",
     "start_time": "2024-06-11T14:33:58.275050Z"
    }
   },
   "cell_type": "code",
   "source": [
    "import statsmodels.api as sm\n",
    "\n",
    "ols = sm.OLS(\n",
    "    y_train,\n",
    "    sm.add_constant(X_train)\n",
    ").fit()\n",
    "\n",
    "ols.summary()"
   ],
   "id": "fc82f54e9ed09ab",
   "outputs": [
    {
     "data": {
      "text/plain": [
       "<class 'statsmodels.iolib.summary.Summary'>\n",
       "\"\"\"\n",
       "                            OLS Regression Results                            \n",
       "==============================================================================\n",
       "Dep. Variable:                    mpg   R-squared:                       0.811\n",
       "Model:                            OLS   Adj. R-squared:                  0.807\n",
       "Method:                 Least Squares   F-statistic:                     218.4\n",
       "Date:                Tue, 11 Jun 2024   Prob (F-statistic):          1.96e-107\n",
       "Time:                        23:33:58   Log-Likelihood:                -832.28\n",
       "No. Observations:                 313   AIC:                             1679.\n",
       "Df Residuals:                     306   BIC:                             1705.\n",
       "Df Model:                           6                                         \n",
       "Covariance Type:            nonrobust                                         \n",
       "================================================================================\n",
       "                   coef    std err          t      P>|t|      [0.025      0.975]\n",
       "--------------------------------------------------------------------------------\n",
       "const          -15.0578      5.571     -2.703      0.007     -26.021      -4.095\n",
       "cylinders       -0.1162      0.385     -0.302      0.763      -0.874       0.642\n",
       "displacement     0.0010      0.008      0.121      0.904      -0.015       0.017\n",
       "horsepower      -0.0023      0.016     -0.144      0.886      -0.033       0.029\n",
       "weight          -0.0066      0.001     -8.807      0.000      -0.008      -0.005\n",
       "acceleration     0.0617      0.115      0.537      0.591      -0.164       0.288\n",
       "model_year       0.7606      0.062     12.333      0.000       0.639       0.882\n",
       "==============================================================================\n",
       "Omnibus:                       35.445   Durbin-Watson:                   2.015\n",
       "Prob(Omnibus):                  0.000   Jarque-Bera (JB):               52.727\n",
       "Skew:                           0.728   Prob(JB):                     3.55e-12\n",
       "Kurtosis:                       4.388   Cond. No.                     8.78e+04\n",
       "==============================================================================\n",
       "\n",
       "Notes:\n",
       "[1] Standard Errors assume that the covariance matrix of the errors is correctly specified.\n",
       "[2] The condition number is large, 8.78e+04. This might indicate that there are\n",
       "strong multicollinearity or other numerical problems.\n",
       "\"\"\""
      ],
      "text/html": [
       "<table class=\"simpletable\">\n",
       "<caption>OLS Regression Results</caption>\n",
       "<tr>\n",
       "  <th>Dep. Variable:</th>           <td>mpg</td>       <th>  R-squared:         </th> <td>   0.811</td> \n",
       "</tr>\n",
       "<tr>\n",
       "  <th>Model:</th>                   <td>OLS</td>       <th>  Adj. R-squared:    </th> <td>   0.807</td> \n",
       "</tr>\n",
       "<tr>\n",
       "  <th>Method:</th>             <td>Least Squares</td>  <th>  F-statistic:       </th> <td>   218.4</td> \n",
       "</tr>\n",
       "<tr>\n",
       "  <th>Date:</th>             <td>Tue, 11 Jun 2024</td> <th>  Prob (F-statistic):</th> <td>1.96e-107</td>\n",
       "</tr>\n",
       "<tr>\n",
       "  <th>Time:</th>                 <td>23:33:58</td>     <th>  Log-Likelihood:    </th> <td> -832.28</td> \n",
       "</tr>\n",
       "<tr>\n",
       "  <th>No. Observations:</th>      <td>   313</td>      <th>  AIC:               </th> <td>   1679.</td> \n",
       "</tr>\n",
       "<tr>\n",
       "  <th>Df Residuals:</th>          <td>   306</td>      <th>  BIC:               </th> <td>   1705.</td> \n",
       "</tr>\n",
       "<tr>\n",
       "  <th>Df Model:</th>              <td>     6</td>      <th>                     </th>     <td> </td>    \n",
       "</tr>\n",
       "<tr>\n",
       "  <th>Covariance Type:</th>      <td>nonrobust</td>    <th>                     </th>     <td> </td>    \n",
       "</tr>\n",
       "</table>\n",
       "<table class=\"simpletable\">\n",
       "<tr>\n",
       "        <td></td>          <th>coef</th>     <th>std err</th>      <th>t</th>      <th>P>|t|</th>  <th>[0.025</th>    <th>0.975]</th>  \n",
       "</tr>\n",
       "<tr>\n",
       "  <th>const</th>        <td>  -15.0578</td> <td>    5.571</td> <td>   -2.703</td> <td> 0.007</td> <td>  -26.021</td> <td>   -4.095</td>\n",
       "</tr>\n",
       "<tr>\n",
       "  <th>cylinders</th>    <td>   -0.1162</td> <td>    0.385</td> <td>   -0.302</td> <td> 0.763</td> <td>   -0.874</td> <td>    0.642</td>\n",
       "</tr>\n",
       "<tr>\n",
       "  <th>displacement</th> <td>    0.0010</td> <td>    0.008</td> <td>    0.121</td> <td> 0.904</td> <td>   -0.015</td> <td>    0.017</td>\n",
       "</tr>\n",
       "<tr>\n",
       "  <th>horsepower</th>   <td>   -0.0023</td> <td>    0.016</td> <td>   -0.144</td> <td> 0.886</td> <td>   -0.033</td> <td>    0.029</td>\n",
       "</tr>\n",
       "<tr>\n",
       "  <th>weight</th>       <td>   -0.0066</td> <td>    0.001</td> <td>   -8.807</td> <td> 0.000</td> <td>   -0.008</td> <td>   -0.005</td>\n",
       "</tr>\n",
       "<tr>\n",
       "  <th>acceleration</th> <td>    0.0617</td> <td>    0.115</td> <td>    0.537</td> <td> 0.591</td> <td>   -0.164</td> <td>    0.288</td>\n",
       "</tr>\n",
       "<tr>\n",
       "  <th>model_year</th>   <td>    0.7606</td> <td>    0.062</td> <td>   12.333</td> <td> 0.000</td> <td>    0.639</td> <td>    0.882</td>\n",
       "</tr>\n",
       "</table>\n",
       "<table class=\"simpletable\">\n",
       "<tr>\n",
       "  <th>Omnibus:</th>       <td>35.445</td> <th>  Durbin-Watson:     </th> <td>   2.015</td>\n",
       "</tr>\n",
       "<tr>\n",
       "  <th>Prob(Omnibus):</th> <td> 0.000</td> <th>  Jarque-Bera (JB):  </th> <td>  52.727</td>\n",
       "</tr>\n",
       "<tr>\n",
       "  <th>Skew:</th>          <td> 0.728</td> <th>  Prob(JB):          </th> <td>3.55e-12</td>\n",
       "</tr>\n",
       "<tr>\n",
       "  <th>Kurtosis:</th>      <td> 4.388</td> <th>  Cond. No.          </th> <td>8.78e+04</td>\n",
       "</tr>\n",
       "</table><br/><br/>Notes:<br/>[1] Standard Errors assume that the covariance matrix of the errors is correctly specified.<br/>[2] The condition number is large, 8.78e+04. This might indicate that there are<br/>strong multicollinearity or other numerical problems."
      ],
      "text/latex": "\\begin{center}\n\\begin{tabular}{lclc}\n\\toprule\n\\textbf{Dep. Variable:}    &       mpg        & \\textbf{  R-squared:         } &     0.811   \\\\\n\\textbf{Model:}            &       OLS        & \\textbf{  Adj. R-squared:    } &     0.807   \\\\\n\\textbf{Method:}           &  Least Squares   & \\textbf{  F-statistic:       } &     218.4   \\\\\n\\textbf{Date:}             & Tue, 11 Jun 2024 & \\textbf{  Prob (F-statistic):} & 1.96e-107   \\\\\n\\textbf{Time:}             &     23:33:58     & \\textbf{  Log-Likelihood:    } &   -832.28   \\\\\n\\textbf{No. Observations:} &         313      & \\textbf{  AIC:               } &     1679.   \\\\\n\\textbf{Df Residuals:}     &         306      & \\textbf{  BIC:               } &     1705.   \\\\\n\\textbf{Df Model:}         &           6      & \\textbf{                     } &             \\\\\n\\textbf{Covariance Type:}  &    nonrobust     & \\textbf{                     } &             \\\\\n\\bottomrule\n\\end{tabular}\n\\begin{tabular}{lcccccc}\n                      & \\textbf{coef} & \\textbf{std err} & \\textbf{t} & \\textbf{P$> |$t$|$} & \\textbf{[0.025} & \\textbf{0.975]}  \\\\\n\\midrule\n\\textbf{const}        &     -15.0578  &        5.571     &    -2.703  &         0.007        &      -26.021    &       -4.095     \\\\\n\\textbf{cylinders}    &      -0.1162  &        0.385     &    -0.302  &         0.763        &       -0.874    &        0.642     \\\\\n\\textbf{displacement} &       0.0010  &        0.008     &     0.121  &         0.904        &       -0.015    &        0.017     \\\\\n\\textbf{horsepower}   &      -0.0023  &        0.016     &    -0.144  &         0.886        &       -0.033    &        0.029     \\\\\n\\textbf{weight}       &      -0.0066  &        0.001     &    -8.807  &         0.000        &       -0.008    &       -0.005     \\\\\n\\textbf{acceleration} &       0.0617  &        0.115     &     0.537  &         0.591        &       -0.164    &        0.288     \\\\\n\\textbf{model\\_year}  &       0.7606  &        0.062     &    12.333  &         0.000        &        0.639    &        0.882     \\\\\n\\bottomrule\n\\end{tabular}\n\\begin{tabular}{lclc}\n\\textbf{Omnibus:}       & 35.445 & \\textbf{  Durbin-Watson:     } &    2.015  \\\\\n\\textbf{Prob(Omnibus):} &  0.000 & \\textbf{  Jarque-Bera (JB):  } &   52.727  \\\\\n\\textbf{Skew:}          &  0.728 & \\textbf{  Prob(JB):          } & 3.55e-12  \\\\\n\\textbf{Kurtosis:}      &  4.388 & \\textbf{  Cond. No.          } & 8.78e+04  \\\\\n\\bottomrule\n\\end{tabular}\n%\\caption{OLS Regression Results}\n\\end{center}\n\nNotes: \\newline\n [1] Standard Errors assume that the covariance matrix of the errors is correctly specified. \\newline\n [2] The condition number is large, 8.78e+04. This might indicate that there are \\newline\n strong multicollinearity or other numerical problems."
     },
     "execution_count": 73,
     "metadata": {},
     "output_type": "execute_result"
    }
   ],
   "execution_count": 73
  },
  {
   "metadata": {
    "ExecuteTime": {
     "end_time": "2024-06-11T14:34:01.155790Z",
     "start_time": "2024-06-11T14:34:01.126997Z"
    }
   },
   "cell_type": "code",
   "source": [
    "ols_pred = ols.predict(sm.add_constant(X_test))\n",
    "print(f'R squared for OLS model : {ols.rsquared_adj : .4f}')"
   ],
   "id": "ad6bff78cc20c518",
   "outputs": [
    {
     "name": "stdout",
     "output_type": "stream",
     "text": [
      "R squared for OLS model :  0.8070\n"
     ]
    }
   ],
   "execution_count": 74
  },
  {
   "metadata": {
    "ExecuteTime": {
     "end_time": "2024-06-11T14:34:43.254594Z",
     "start_time": "2024-06-11T14:34:43.225508Z"
    }
   },
   "cell_type": "code",
   "source": [
    "from sklearn.metrics import r2_score\n",
    "r_squared_pred = r2_score(y_test, ols_pred)"
   ],
   "id": "3738a25616b3cdbe",
   "outputs": [],
   "execution_count": 75
  },
  {
   "metadata": {
    "ExecuteTime": {
     "end_time": "2024-06-11T14:35:16.745938Z",
     "start_time": "2024-06-11T14:35:16.407951Z"
    }
   },
   "cell_type": "code",
   "source": [
    "fig, ax = plt.subplots(figsize = (6, 4))\n",
    "m, b = np.polyfit(y_test, ols_pred, 1)\n",
    "\n",
    "ax.scatter(\n",
    "    y_test,\n",
    "    ols_pred, \n",
    "    label = 'OLS', \n",
    "    edgecolor = 'none',\n",
    "    s = 5,\n",
    "    alpha = 0.75\n",
    ")\n",
    "ax.plot(\n",
    "    np.sort(y_test), \n",
    "    m * np.sort(y_test) + b,\n",
    "    color = 'darkorange', \n",
    "    alpha = 0.5\n",
    ")\n",
    "for spine in ax.spines.values():\n",
    "    spine.set_visible(False)\n",
    "ax.grid(False)\n",
    "ax.yaxis.grid(True, ls = ':', alpha = 0.5) \n",
    "ax.legend()\n",
    "plt.xlabel('actual')\n",
    "plt.ylabel('predicted')\n",
    "plt.title(rf'Regression Prediction | $R^2$ = {r_squared_pred : .4f}')\n",
    "plt.show()"
   ],
   "id": "fd2b27ab2cd0935c",
   "outputs": [
    {
     "data": {
      "text/plain": [
       "<Figure size 600x400 with 1 Axes>"
      ],
      "image/png": "[encoded data removed]"
     },
     "metadata": {},
     "output_type": "display_data"
    }
   ],
   "execution_count": 76
  },
  {
   "metadata": {},
   "cell_type": "markdown",
   "source": "#### Ridge Regression",
   "id": "e6716e0788e26ec1"
  },
  {
   "metadata": {
    "ExecuteTime": {
     "end_time": "2024-06-11T14:35:31.045383Z",
     "start_time": "2024-06-11T14:35:31.018384Z"
    }
   },
   "cell_type": "code",
   "source": [
    "ridge = sm.OLS(\n",
    "    y_train,\n",
    "    sm.add_constant(X_train)\n",
    ").fit_regularized(\n",
    "    method = 'elastic_net',\n",
    "    L1_wt = 0,\n",
    "    alpha = 0.01\n",
    ")"
   ],
   "id": "42af9bfe7b2d30c4",
   "outputs": [],
   "execution_count": 77
  },
  {
   "metadata": {
    "ExecuteTime": {
     "end_time": "2024-06-11T14:35:31.138899Z",
     "start_time": "2024-06-11T14:35:31.132499Z"
    }
   },
   "cell_type": "code",
   "source": "ridge.params",
   "id": "8b94ea6b04e00396",
   "outputs": [
    {
     "data": {
      "text/plain": [
       "array([-1.67968828, -0.26761927,  0.00293039, -0.02077204, -0.00620309,\n",
       "       -0.05691095,  0.6268473 ])"
      ]
     },
     "execution_count": 78,
     "metadata": {},
     "output_type": "execute_result"
    }
   ],
   "execution_count": 78
  },
  {
   "metadata": {
    "ExecuteTime": {
     "end_time": "2024-06-11T14:35:31.367627Z",
     "start_time": "2024-06-11T14:35:31.358052Z"
    }
   },
   "cell_type": "code",
   "source": [
    "r_squared = r2_score(y_train, ridge.fittedvalues)\n",
    "ridge_pred = ridge.predict(sm.add_constant(X_test))\n",
    "print(f'R-squared for Ridge model : {r_squared : .4f}')"
   ],
   "id": "eb40f8c98f9b4493",
   "outputs": [
    {
     "name": "stdout",
     "output_type": "stream",
     "text": [
      "R-squared for Ridge model :  0.8072\n"
     ]
    }
   ],
   "execution_count": 79
  },
  {
   "metadata": {
    "ExecuteTime": {
     "end_time": "2024-06-11T14:35:53.980815Z",
     "start_time": "2024-06-11T14:35:53.968838Z"
    }
   },
   "cell_type": "code",
   "source": "ridge_prob = r2_score(y_test, ridge_pred)",
   "id": "f6a67c44eb2fce65",
   "outputs": [],
   "execution_count": 80
  },
  {
   "metadata": {
    "ExecuteTime": {
     "end_time": "2024-06-11T14:36:02.167593Z",
     "start_time": "2024-06-11T14:36:01.945894Z"
    }
   },
   "cell_type": "code",
   "source": [
    "fig, ax = plt.subplots(figsize = (6, 4))\n",
    "m, b = np.polyfit(y_test, ridge_pred, 1)\n",
    "\n",
    "ax.scatter(\n",
    "    y_test,\n",
    "    ridge_pred, \n",
    "    label = 'Ridge', \n",
    "    edgecolor = 'none',\n",
    "    s = 5,\n",
    "    alpha = 0.75\n",
    ")\n",
    "ax.plot(\n",
    "    np.sort(y_test), \n",
    "    m * np.sort(y_test) + b,\n",
    "    color = 'darkorange', \n",
    "    alpha = 0.5\n",
    ")\n",
    "for spine in ax.spines.values():\n",
    "    spine.set_visible(False)\n",
    "ax.grid(False)\n",
    "ax.yaxis.grid(True, ls = ':', alpha = 0.5) \n",
    "ax.legend()\n",
    "plt.xlabel('actual')\n",
    "plt.ylabel('predicted')\n",
    "plt.title(rf'Regression Prediction | $R^2$ = {ridge_prob : .4f}')\n",
    "plt.show()"
   ],
   "id": "13691c78ef264806",
   "outputs": [
    {
     "data": {
      "text/plain": [
       "<Figure size 600x400 with 1 Axes>"
      ],
      "image/png": "[encoded data removed]"
     },
     "metadata": {},
     "output_type": "display_data"
    }
   ],
   "execution_count": 81
  },
  {
   "metadata": {},
   "cell_type": "markdown",
   "source": "#### Lasso Regression",
   "id": "23897b5c12f60895"
  },
  {
   "metadata": {
    "ExecuteTime": {
     "end_time": "2024-06-11T14:36:09.580695Z",
     "start_time": "2024-06-11T14:36:09.499303Z"
    }
   },
   "cell_type": "code",
   "source": [
    "lasso = sm.OLS(\n",
    "    y_train,\n",
    "    sm.add_constant(X_train)\n",
    ").fit_regularized(\n",
    "    method = 'elastic_net',\n",
    "    L1_wt = 1,\n",
    "    alpha = 0.01\n",
    ")"
   ],
   "id": "deaac7d3a5f8249",
   "outputs": [],
   "execution_count": 82
  },
  {
   "metadata": {
    "ExecuteTime": {
     "end_time": "2024-06-11T14:36:09.712197Z",
     "start_time": "2024-06-11T14:36:09.701982Z"
    }
   },
   "cell_type": "code",
   "source": "lasso.params",
   "id": "55dcdd34886c00e2",
   "outputs": [
    {
     "data": {
      "text/plain": [
       "const           18.426674\n",
       "cylinders       -0.826770\n",
       "displacement    -0.031173\n",
       "horsepower       0.000086\n",
       "weight          -0.001695\n",
       "acceleration     0.465336\n",
       "model_year       0.179575\n",
       "dtype: float64"
      ]
     },
     "execution_count": 83,
     "metadata": {},
     "output_type": "execute_result"
    }
   ],
   "execution_count": 83
  },
  {
   "metadata": {
    "ExecuteTime": {
     "end_time": "2024-06-11T14:36:11.676436Z",
     "start_time": "2024-06-11T14:36:11.638460Z"
    }
   },
   "cell_type": "code",
   "source": [
    "r_squared = r2_score(y_train, lasso.fittedvalues)\n",
    "lasso_pred = lasso.predict(sm.add_constant(X_test))\n",
    "print(f'R-squared for Lasso model : {r_squared : .4f}')"
   ],
   "id": "13d7ff68337ccda3",
   "outputs": [
    {
     "name": "stdout",
     "output_type": "stream",
     "text": [
      "R-squared for Lasso model :  0.6993\n"
     ]
    }
   ],
   "execution_count": 84
  },
  {
   "metadata": {
    "ExecuteTime": {
     "end_time": "2024-06-11T14:36:22.775282Z",
     "start_time": "2024-06-11T14:36:22.761934Z"
    }
   },
   "cell_type": "code",
   "source": "lasso_prob = r2_score(y_test, lasso_pred)",
   "id": "420c61e4d97be0d7",
   "outputs": [],
   "execution_count": 85
  },
  {
   "metadata": {
    "ExecuteTime": {
     "end_time": "2024-06-11T14:36:30.357848Z",
     "start_time": "2024-06-11T14:36:30.135486Z"
    }
   },
   "cell_type": "code",
   "source": [
    "fig, ax = plt.subplots(figsize = (6, 4))\n",
    "m, b = np.polyfit(y_test, lasso_pred, 1)\n",
    "\n",
    "ax.scatter(\n",
    "    y_test,\n",
    "    lasso_pred, \n",
    "    label = 'Lasso', \n",
    "    edgecolor = 'none',\n",
    "    s = 5,\n",
    "    alpha = 0.75\n",
    ")\n",
    "ax.plot(\n",
    "    np.sort(y_test), \n",
    "    m * np.sort(y_test) + b,\n",
    "    color = 'darkorange', \n",
    "    alpha = 0.5\n",
    ")\n",
    "for spine in ax.spines.values():\n",
    "    spine.set_visible(False)\n",
    "ax.grid(False)\n",
    "ax.yaxis.grid(True, ls = ':', alpha = 0.5) \n",
    "ax.legend()\n",
    "plt.xlabel('actual')\n",
    "plt.ylabel('predicted')\n",
    "plt.title(rf'Regression Prediction | $R^2$ = {lasso_prob : .4f}')\n",
    "plt.show()"
   ],
   "id": "d42036383849e387",
   "outputs": [
    {
     "data": {
      "text/plain": [
       "<Figure size 600x400 with 1 Axes>"
      ],
      "image/png": "[encoded data removed]"
     },
     "metadata": {},
     "output_type": "display_data"
    }
   ],
   "execution_count": 86
  },
  {
   "metadata": {},
   "cell_type": "markdown",
   "source": "#### Elastic net Regression",
   "id": "280369573b88ad37"
  },
  {
   "metadata": {
    "ExecuteTime": {
     "end_time": "2024-06-11T14:36:49.124742Z",
     "start_time": "2024-06-11T14:36:49.034472Z"
    }
   },
   "cell_type": "code",
   "source": [
    "elastic = sm.OLS(\n",
    "    y_train,\n",
    "    sm.add_constant(X_train)\n",
    ").fit_regularized(\n",
    "    method = 'elastic_net',\n",
    "    L1_wt = 0.5,\n",
    "    alpha = 0.01\n",
    ")"
   ],
   "id": "3a6042c8b947c63d",
   "outputs": [],
   "execution_count": 87
  },
  {
   "metadata": {
    "ExecuteTime": {
     "end_time": "2024-06-11T14:36:50.265548Z",
     "start_time": "2024-06-11T14:36:50.253005Z"
    }
   },
   "cell_type": "code",
   "source": "elastic.params",
   "id": "c65a0aaa753faa42",
   "outputs": [
    {
     "data": {
      "text/plain": [
       "const           14.008471\n",
       "cylinders       -0.546039\n",
       "displacement    -0.036406\n",
       "horsepower       0.012239\n",
       "weight          -0.001671\n",
       "acceleration     0.604799\n",
       "model_year       0.184736\n",
       "dtype: float64"
      ]
     },
     "execution_count": 88,
     "metadata": {},
     "output_type": "execute_result"
    }
   ],
   "execution_count": 88
  },
  {
   "metadata": {
    "ExecuteTime": {
     "end_time": "2024-06-11T14:36:50.584998Z",
     "start_time": "2024-06-11T14:36:50.573228Z"
    }
   },
   "cell_type": "code",
   "source": [
    "r_squared = r2_score(y_train, elastic.fittedvalues)\n",
    "elastic_pred = elastic.predict(sm.add_constant(X_test))\n",
    "print(f'R-squared for Elastic model : {r_squared : .4f}')"
   ],
   "id": "cdd719013d739957",
   "outputs": [
    {
     "name": "stdout",
     "output_type": "stream",
     "text": [
      "R-squared for Elastic model :  0.6870\n"
     ]
    }
   ],
   "execution_count": 89
  },
  {
   "metadata": {
    "ExecuteTime": {
     "end_time": "2024-06-11T14:36:58.094518Z",
     "start_time": "2024-06-11T14:36:58.077534Z"
    }
   },
   "cell_type": "code",
   "source": "elastic_prob = r2_score(y_test, elastic_pred)",
   "id": "829307f6d2fcc939",
   "outputs": [],
   "execution_count": 90
  },
  {
   "metadata": {
    "ExecuteTime": {
     "end_time": "2024-06-11T14:39:06.899602Z",
     "start_time": "2024-06-11T14:39:05.234143Z"
    }
   },
   "cell_type": "code",
   "source": [
    "fig, ax = plt.subplots(figsize = (6, 4))\n",
    "m, b = np.polyfit(y_test, elastic_pred, 1)\n",
    "\n",
    "ax.scatter(\n",
    "    y_test,\n",
    "    elastic_pred, \n",
    "    label = 'Elastic net', \n",
    "    edgecolor = 'none',\n",
    "    s = 5,\n",
    "    alpha = 0.75\n",
    ")\n",
    "ax.plot(\n",
    "    np.sort(y_test), \n",
    "    m * np.sort(y_test) + b,\n",
    "    color = 'darkorange', \n",
    "    alpha = 0.5\n",
    ")\n",
    "for spine in ax.spines.values():\n",
    "    spine.set_visible(False)\n",
    "ax.grid(False)\n",
    "ax.yaxis.grid(True, ls = ':', alpha = 0.5) \n",
    "ax.legend()\n",
    "plt.xlabel('actual')\n",
    "plt.ylabel('predicted')\n",
    "plt.title(rf'Regression Prediction | $R^2$ = {elastic_prob : .4f}')\n",
    "plt.show()"
   ],
   "id": "8f4fdf0edd02eca",
   "outputs": [
    {
     "data": {
      "text/plain": [
       "<Figure size 600x400 with 1 Axes>"
      ],
      "image/png": "[encoded data removed]"
     },
     "metadata": {},
     "output_type": "display_data"
    }
   ],
   "execution_count": 96
  },
  {
   "metadata": {},
   "cell_type": "markdown",
   "source": "#### Support Vector Regression",
   "id": "1708b7f746dfb095"
  },
  {
   "metadata": {
    "ExecuteTime": {
     "end_time": "2024-06-11T14:40:42.625902Z",
     "start_time": "2024-06-11T14:40:41.033259Z"
    }
   },
   "cell_type": "code",
   "source": [
    "from sklearn.svm import SVR\n",
    "\n",
    "support_vector = SVR(\n",
    "    kernel = 'linear',\n",
    "    C = 0.1,\n",
    "    tol = 0.001\n",
    ")\n",
    "support_vector.fit(X_train, y_train)"
   ],
   "id": "6bb81e83f0b72cc3",
   "outputs": [
    {
     "data": {
      "text/plain": [
       "SVR(C=0.1, kernel='linear')"
      ],
      "text/html": [
       "<style>#sk-container-id-4 {color: black;}#sk-container-id-4 pre{padding: 0;}#sk-container-id-4 div.sk-toggleable {background-color: white;}#sk-container-id-4 label.sk-toggleable__label {cursor: pointer;display: block;width: 100%;margin-bottom: 0;padding: 0.3em;box-sizing: border-box;text-align: center;}#sk-container-id-4 label.sk-toggleable__label-arrow:before {content: \"▸\";float: left;margin-right: 0.25em;color: #696969;}#sk-container-id-4 label.sk-toggleable__label-arrow:hover:before {color: black;}#sk-container-id-4 div.sk-estimator:hover label.sk-toggleable__label-arrow:before {color: black;}#sk-container-id-4 div.sk-toggleable__content {max-height: 0;max-width: 0;overflow: hidden;text-align: left;background-color: #f0f8ff;}#sk-container-id-4 div.sk-toggleable__content pre {margin: 0.2em;color: black;border-radius: 0.25em;background-color: #f0f8ff;}#sk-container-id-4 input.sk-toggleable__control:checked~div.sk-toggleable__content {max-height: 200px;max-width: 100%;overflow: auto;}#sk-container-id-4 input.sk-toggleable__control:checked~label.sk-toggleable__label-arrow:before {content: \"▾\";}#sk-container-id-4 div.sk-estimator input.sk-toggleable__control:checked~label.sk-toggleable__label {background-color: #d4ebff;}#sk-container-id-4 div.sk-label input.sk-toggleable__control:checked~label.sk-toggleable__label {background-color: #d4ebff;}#sk-container-id-4 input.sk-hidden--visually {border: 0;clip: rect(1px 1px 1px 1px);clip: rect(1px, 1px, 1px, 1px);height: 1px;margin: -1px;overflow: hidden;padding: 0;position: absolute;width: 1px;}#sk-container-id-4 div.sk-estimator {font-family: monospace;background-color: #f0f8ff;border: 1px dotted black;border-radius: 0.25em;box-sizing: border-box;margin-bottom: 0.5em;}#sk-container-id-4 div.sk-estimator:hover {background-color: #d4ebff;}#sk-container-id-4 div.sk-parallel-item::after {content: \"\";width: 100%;border-bottom: 1px solid gray;flex-grow: 1;}#sk-container-id-4 div.sk-label:hover label.sk-toggleable__label {background-color: #d4ebff;}#sk-container-id-4 div.sk-serial::before {content: \"\";position: absolute;border-left: 1px solid gray;box-sizing: border-box;top: 0;bottom: 0;left: 50%;z-index: 0;}#sk-container-id-4 div.sk-serial {display: flex;flex-direction: column;align-items: center;background-color: white;padding-right: 0.2em;padding-left: 0.2em;position: relative;}#sk-container-id-4 div.sk-item {position: relative;z-index: 1;}#sk-container-id-4 div.sk-parallel {display: flex;align-items: stretch;justify-content: center;background-color: white;position: relative;}#sk-container-id-4 div.sk-item::before, #sk-container-id-4 div.sk-parallel-item::before {content: \"\";position: absolute;border-left: 1px solid gray;box-sizing: border-box;top: 0;bottom: 0;left: 50%;z-index: -1;}#sk-container-id-4 div.sk-parallel-item {display: flex;flex-direction: column;z-index: 1;position: relative;background-color: white;}#sk-container-id-4 div.sk-parallel-item:first-child::after {align-self: flex-end;width: 50%;}#sk-container-id-4 div.sk-parallel-item:last-child::after {align-self: flex-start;width: 50%;}#sk-container-id-4 div.sk-parallel-item:only-child::after {width: 0;}#sk-container-id-4 div.sk-dashed-wrapped {border: 1px dashed gray;margin: 0 0.4em 0.5em 0.4em;box-sizing: border-box;padding-bottom: 0.4em;background-color: white;}#sk-container-id-4 div.sk-label label {font-family: monospace;font-weight: bold;display: inline-block;line-height: 1.2em;}#sk-container-id-4 div.sk-label-container {text-align: center;}#sk-container-id-4 div.sk-container {/* jupyter's `normalize.less` sets `[hidden] { display: none; }` but bootstrap.min.css set `[hidden] { display: none !important; }` so we also need the `!important` here to be able to override the default hidden behavior on the sphinx rendered scikit-learn.org. See: https://github.com/scikit-learn/scikit-learn/issues/21755 */display: inline-block !important;position: relative;}#sk-container-id-4 div.sk-text-repr-fallback {display: none;}</style><div id=\"sk-container-id-4\" class=\"sk-top-container\"><div class=\"sk-text-repr-fallback\"><pre>SVR(C=0.1, kernel=&#x27;linear&#x27;)</pre><b>In a Jupyter environment, please rerun this cell to show the HTML representation or trust the notebook. <br />On GitHub, the HTML representation is unable to render, please try loading this page with nbviewer.org.</b></div><div class=\"sk-container\" hidden><div class=\"sk-item\"><div class=\"sk-estimator sk-toggleable\"><input class=\"sk-toggleable__control sk-hidden--visually\" id=\"sk-estimator-id-4\" type=\"checkbox\" checked><label for=\"sk-estimator-id-4\" class=\"sk-toggleable__label sk-toggleable__label-arrow\">SVR</label><div class=\"sk-toggleable__content\"><pre>SVR(C=0.1, kernel=&#x27;linear&#x27;)</pre></div></div></div></div></div>"
      ]
     },
     "execution_count": 101,
     "metadata": {},
     "output_type": "execute_result"
    }
   ],
   "execution_count": 101
  },
  {
   "metadata": {
    "ExecuteTime": {
     "end_time": "2024-06-11T14:37:53.454125Z",
     "start_time": "2024-06-11T14:37:53.425032Z"
    }
   },
   "cell_type": "code",
   "source": [
    "svm_pred = support_vector.predict(X_test)\n",
    "r_squared = r2_score(y_train, support_vector.predict(X_train))\n",
    "print(f'R-squared for Support Vector model : {r_squared : .4f}')"
   ],
   "id": "27777452c84b398f",
   "outputs": [
    {
     "name": "stdout",
     "output_type": "stream",
     "text": [
      "R-squared for Support Vector model :  0.8022\n"
     ]
    }
   ],
   "execution_count": 93
  },
  {
   "metadata": {
    "ExecuteTime": {
     "end_time": "2024-06-11T14:38:14.362829Z",
     "start_time": "2024-06-11T14:38:14.324024Z"
    }
   },
   "cell_type": "code",
   "source": "svm_prob = r2_score(y_test, support_vector.predict(X_test))",
   "id": "db059b7f9c4ab036",
   "outputs": [],
   "execution_count": 94
  },
  {
   "metadata": {
    "ExecuteTime": {
     "end_time": "2024-06-11T14:39:18.593891Z",
     "start_time": "2024-06-11T14:39:18.390996Z"
    }
   },
   "cell_type": "code",
   "source": [
    "fig, ax = plt.subplots(figsize = (6, 4))\n",
    "m, b = np.polyfit(y_test, svm_pred, 1)\n",
    "\n",
    "ax.scatter(\n",
    "    y_test,\n",
    "    svm_pred, \n",
    "    label = 'SVM', \n",
    "    edgecolor = 'none',\n",
    "    s = 5,\n",
    "    alpha = 0.75\n",
    ")\n",
    "ax.plot(\n",
    "    np.sort(y_test), \n",
    "    m * np.sort(y_test) + b,\n",
    "    color = 'darkorange', \n",
    "    alpha = 0.5\n",
    ")\n",
    "for spine in ax.spines.values():\n",
    "    spine.set_visible(False)\n",
    "ax.grid(False)\n",
    "ax.yaxis.grid(True, ls = ':', alpha = 0.5) \n",
    "ax.legend()\n",
    "plt.xlabel('actual')\n",
    "plt.ylabel('predicted')\n",
    "plt.title(rf'Regression Prediction | $R^2$ = {svm_prob : .4f}')\n",
    "plt.show()"
   ],
   "id": "e199f649d02fffb3",
   "outputs": [
    {
     "data": {
      "text/plain": [
       "<Figure size 600x400 with 1 Axes>"
      ],
      "image/png": "[encoded data removed]"
     },
     "metadata": {},
     "output_type": "display_data"
    }
   ],
   "execution_count": 97
  },
  {
   "metadata": {},
   "cell_type": "markdown",
   "source": "#### K Neighbors Regression",
   "id": "fb492bd1cc8c8e0a"
  },
  {
   "metadata": {
    "ExecuteTime": {
     "end_time": "2024-06-11T14:40:17.780692Z",
     "start_time": "2024-06-11T14:40:17.455895Z"
    }
   },
   "cell_type": "code",
   "source": [
    "from sklearn.neighbors import KNeighborsRegressor\n",
    "\n",
    "knn = KNeighborsRegressor(n_neighbors = 5)\n",
    "knn.fit(X_train, y_train)"
   ],
   "id": "a01c5ddafd41c2da",
   "outputs": [
    {
     "data": {
      "text/plain": [
       "KNeighborsRegressor()"
      ],
      "text/html": [
       "<style>#sk-container-id-3 {color: black;}#sk-container-id-3 pre{padding: 0;}#sk-container-id-3 div.sk-toggleable {background-color: white;}#sk-container-id-3 label.sk-toggleable__label {cursor: pointer;display: block;width: 100%;margin-bottom: 0;padding: 0.3em;box-sizing: border-box;text-align: center;}#sk-container-id-3 label.sk-toggleable__label-arrow:before {content: \"▸\";float: left;margin-right: 0.25em;color: #696969;}#sk-container-id-3 label.sk-toggleable__label-arrow:hover:before {color: black;}#sk-container-id-3 div.sk-estimator:hover label.sk-toggleable__label-arrow:before {color: black;}#sk-container-id-3 div.sk-toggleable__content {max-height: 0;max-width: 0;overflow: hidden;text-align: left;background-color: #f0f8ff;}#sk-container-id-3 div.sk-toggleable__content pre {margin: 0.2em;color: black;border-radius: 0.25em;background-color: #f0f8ff;}#sk-container-id-3 input.sk-toggleable__control:checked~div.sk-toggleable__content {max-height: 200px;max-width: 100%;overflow: auto;}#sk-container-id-3 input.sk-toggleable__control:checked~label.sk-toggleable__label-arrow:before {content: \"▾\";}#sk-container-id-3 div.sk-estimator input.sk-toggleable__control:checked~label.sk-toggleable__label {background-color: #d4ebff;}#sk-container-id-3 div.sk-label input.sk-toggleable__control:checked~label.sk-toggleable__label {background-color: #d4ebff;}#sk-container-id-3 input.sk-hidden--visually {border: 0;clip: rect(1px 1px 1px 1px);clip: rect(1px, 1px, 1px, 1px);height: 1px;margin: -1px;overflow: hidden;padding: 0;position: absolute;width: 1px;}#sk-container-id-3 div.sk-estimator {font-family: monospace;background-color: #f0f8ff;border: 1px dotted black;border-radius: 0.25em;box-sizing: border-box;margin-bottom: 0.5em;}#sk-container-id-3 div.sk-estimator:hover {background-color: #d4ebff;}#sk-container-id-3 div.sk-parallel-item::after {content: \"\";width: 100%;border-bottom: 1px solid gray;flex-grow: 1;}#sk-container-id-3 div.sk-label:hover label.sk-toggleable__label {background-color: #d4ebff;}#sk-container-id-3 div.sk-serial::before {content: \"\";position: absolute;border-left: 1px solid gray;box-sizing: border-box;top: 0;bottom: 0;left: 50%;z-index: 0;}#sk-container-id-3 div.sk-serial {display: flex;flex-direction: column;align-items: center;background-color: white;padding-right: 0.2em;padding-left: 0.2em;position: relative;}#sk-container-id-3 div.sk-item {position: relative;z-index: 1;}#sk-container-id-3 div.sk-parallel {display: flex;align-items: stretch;justify-content: center;background-color: white;position: relative;}#sk-container-id-3 div.sk-item::before, #sk-container-id-3 div.sk-parallel-item::before {content: \"\";position: absolute;border-left: 1px solid gray;box-sizing: border-box;top: 0;bottom: 0;left: 50%;z-index: -1;}#sk-container-id-3 div.sk-parallel-item {display: flex;flex-direction: column;z-index: 1;position: relative;background-color: white;}#sk-container-id-3 div.sk-parallel-item:first-child::after {align-self: flex-end;width: 50%;}#sk-container-id-3 div.sk-parallel-item:last-child::after {align-self: flex-start;width: 50%;}#sk-container-id-3 div.sk-parallel-item:only-child::after {width: 0;}#sk-container-id-3 div.sk-dashed-wrapped {border: 1px dashed gray;margin: 0 0.4em 0.5em 0.4em;box-sizing: border-box;padding-bottom: 0.4em;background-color: white;}#sk-container-id-3 div.sk-label label {font-family: monospace;font-weight: bold;display: inline-block;line-height: 1.2em;}#sk-container-id-3 div.sk-label-container {text-align: center;}#sk-container-id-3 div.sk-container {/* jupyter's `normalize.less` sets `[hidden] { display: none; }` but bootstrap.min.css set `[hidden] { display: none !important; }` so we also need the `!important` here to be able to override the default hidden behavior on the sphinx rendered scikit-learn.org. See: https://github.com/scikit-learn/scikit-learn/issues/21755 */display: inline-block !important;position: relative;}#sk-container-id-3 div.sk-text-repr-fallback {display: none;}</style><div id=\"sk-container-id-3\" class=\"sk-top-container\"><div class=\"sk-text-repr-fallback\"><pre>KNeighborsRegressor()</pre><b>In a Jupyter environment, please rerun this cell to show the HTML representation or trust the notebook. <br />On GitHub, the HTML representation is unable to render, please try loading this page with nbviewer.org.</b></div><div class=\"sk-container\" hidden><div class=\"sk-item\"><div class=\"sk-estimator sk-toggleable\"><input class=\"sk-toggleable__control sk-hidden--visually\" id=\"sk-estimator-id-3\" type=\"checkbox\" checked><label for=\"sk-estimator-id-3\" class=\"sk-toggleable__label sk-toggleable__label-arrow\">KNeighborsRegressor</label><div class=\"sk-toggleable__content\"><pre>KNeighborsRegressor()</pre></div></div></div></div></div>"
      ]
     },
     "execution_count": 98,
     "metadata": {},
     "output_type": "execute_result"
    }
   ],
   "execution_count": 98
  },
  {
   "metadata": {
    "ExecuteTime": {
     "end_time": "2024-06-11T14:41:25.488378Z",
     "start_time": "2024-06-11T14:41:25.455300Z"
    }
   },
   "cell_type": "code",
   "source": [
    "knn_score = r2_score(y_train, knn.predict(X_train))\n",
    "knn_pred = knn.predict(X_test)\n",
    "print(f'R-squared for KNN model : {knn_score : .4f}')"
   ],
   "id": "d5c43bf4019f42f4",
   "outputs": [
    {
     "name": "stdout",
     "output_type": "stream",
     "text": [
      "R-squared for KNN model :  0.8060\n"
     ]
    }
   ],
   "execution_count": 102
  },
  {
   "metadata": {
    "ExecuteTime": {
     "end_time": "2024-06-11T14:41:48.610432Z",
     "start_time": "2024-06-11T14:41:48.594632Z"
    }
   },
   "cell_type": "code",
   "source": "knn_prob = r2_score(y_test, knn_pred)",
   "id": "6758045327acaa00",
   "outputs": [],
   "execution_count": 103
  },
  {
   "metadata": {
    "ExecuteTime": {
     "end_time": "2024-06-11T14:42:14.783329Z",
     "start_time": "2024-06-11T14:42:14.526679Z"
    }
   },
   "cell_type": "code",
   "source": [
    "fig, ax = plt.subplots(figsize = (6, 4))\n",
    "m, b = np.polyfit(y_test, knn_pred, 1)\n",
    "\n",
    "ax.scatter(\n",
    "    y_test,\n",
    "    knn_pred, \n",
    "    label = 'K Neighbors', \n",
    "    edgecolor = 'none',\n",
    "    s = 5,\n",
    "    alpha = 0.75\n",
    ")\n",
    "ax.plot(\n",
    "    np.sort(y_test), \n",
    "    m * np.sort(y_test) + b,\n",
    "    color = 'darkorange', \n",
    "    alpha = 0.5\n",
    ")\n",
    "for spine in ax.spines.values():\n",
    "    spine.set_visible(False)\n",
    "ax.grid(False)\n",
    "ax.yaxis.grid(True, ls = ':', alpha = 0.5) \n",
    "ax.legend()\n",
    "plt.xlabel('actual')\n",
    "plt.ylabel('predicted')\n",
    "plt.title(rf'Regression Prediction | $R^2$ = {knn_prob : .4f}')\n",
    "plt.show()"
   ],
   "id": "5606a6a738f6540b",
   "outputs": [
    {
     "data": {
      "text/plain": [
       "<Figure size 600x400 with 1 Axes>"
      ],
      "image/png": "[encoded data removed]"
     },
     "metadata": {},
     "output_type": "display_data"
    }
   ],
   "execution_count": 104
  },
  {
   "metadata": {},
   "cell_type": "code",
   "outputs": [],
   "execution_count": null,
   "source": "",
   "id": "8d1af4fb1d023fc6"
  }
 ],
 "metadata": {
  "kernelspec": {
   "display_name": "Python 3",
   "language": "python",
   "name": "python3"
  },
  "language_info": {
   "codemirror_mode": {
    "name": "ipython",
    "version": 2
   },
   "file_extension": ".py",
   "mimetype": "text/x-python",
   "name": "python",
   "nbconvert_exporter": "python",
   "pygments_lexer": "ipython2",
   "version": "2.7.6"
  }
 },
 "nbformat": 4,
 "nbformat_minor": 5
}
